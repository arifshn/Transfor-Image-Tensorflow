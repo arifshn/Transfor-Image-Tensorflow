{
 "cells": [
  {
   "cell_type": "code",
   "execution_count": 2,
   "id": "295d62f9-678a-4494-94c7-5fd5d35c139f",
   "metadata": {},
   "outputs": [],
   "source": [
    "import tensorflow as tf\n",
    "import tensorflow_hub as hub\n",
    "import numpy as np\n",
    "from PIL import Image"
   ]
  },
  {
   "cell_type": "code",
   "execution_count": 4,
   "id": "5ad79e1f-2a4b-4d79-a6e3-16ecd046f506",
   "metadata": {},
   "outputs": [
    {
     "name": "stdout",
     "output_type": "stream",
     "text": [
      "Stil Aktarma İşlemi Başlıyor...\n"
     ]
    }
   ],
   "source": [
    "def load_img(image_path):\n",
    "    img = tf.io.read_file(image_path)\n",
    "    img = tf.image.decode_image(img, channels=3)\n",
    "    img = tf.image.convert_image_dtype(img, tf.float32)\n",
    "    img = img[tf.newaxis, :]\n",
    "    return img\n",
    "\n",
    "model = hub.load('https://tfhub.dev/google/magenta/arbitrary-image-stylization-v1-256/2')\n",
    "\n",
    "img_input = load_img(\"./model2.jpg\")\n",
    "\n",
    "img_style = load_img(\"./style.jpg\")\n",
    "\n",
    "print(\"Stil Aktarma İşlemi Başlıyor...\")\n",
    "my_output_img = model(img_input,img_style)[0]\n",
    "\n",
    "my_output_img = tf.keras.preprocessing.image.array_to_img(my_output_img[0])\n",
    "my_output_img.save(\"./my_transformed_img_1.png\")"
   ]
  },
  {
   "cell_type": "code",
   "execution_count": null,
   "id": "2f8579ba-f6ea-4f08-9b65-8331522ae2b1",
   "metadata": {},
   "outputs": [],
   "source": []
  }
 ],
 "metadata": {
  "kernelspec": {
   "display_name": "env_ybs",
   "language": "python",
   "name": "env_ybs"
  },
  "language_info": {
   "codemirror_mode": {
    "name": "ipython",
    "version": 3
   },
   "file_extension": ".py",
   "mimetype": "text/x-python",
   "name": "python",
   "nbconvert_exporter": "python",
   "pygments_lexer": "ipython3",
   "version": "3.10.10"
  }
 },
 "nbformat": 4,
 "nbformat_minor": 5
}
